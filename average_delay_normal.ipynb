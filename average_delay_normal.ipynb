{
 "cells": [
  {
   "cell_type": "code",
   "execution_count": 8,
   "metadata": {},
   "outputs": [],
   "source": [
    "import pandas as pd\n",
    "from pandasql import sqldf"
   ]
  },
  {
   "cell_type": "code",
   "execution_count": 9,
   "metadata": {},
   "outputs": [],
   "source": [
    "input = pd.read_csv('DSSD_input/total_carrier.csv')"
   ]
  },
  {
   "cell_type": "code",
   "execution_count": 10,
   "metadata": {},
   "outputs": [],
   "source": [
    "output_total = pd.read_csv('DSSD_output/stats3-total.csv')\n",
    "output_2018 = pd.read_csv('DSSD_output/stats3-2018.csv')\n",
    "output_2020 = pd.read_csv('DSSD_output/stats3-2020.csv')\n",
    "output_2022 = pd.read_csv('DSSD_output/stats3-2022.csv')"
   ]
  },
  {
   "cell_type": "code",
   "execution_count": 11,
   "metadata": {},
   "outputs": [],
   "source": [
    "wedge = pd.read_csv('wedge.csv')['logic'].values[0]"
   ]
  },
  {
   "cell_type": "code",
   "execution_count": 30,
   "metadata": {},
   "outputs": [],
   "source": [
    "def average_delay_calculations(input_df, output_df, and_operator, year=None):\n",
    "\n",
    "    descriptions = []\n",
    "    for count in range(0,len(output_df)):\n",
    "        descriptions.append(output_df['Description'][count].replace(and_operator, 'AND'))\n",
    "    \n",
    "    if year == None:\n",
    "        pass\n",
    "    else:\n",
    "        try:\n",
    "            input_df = input_df[input_df['YEAR']==year]  \n",
    "        except:\n",
    "            raise ValueError('Ouch, that did not go as planned.')\n",
    "\n",
    "    values = []\n",
    "    for count in range(0,len(descriptions)):\n",
    "        query = \"SELECT AVG(CARRIER_DELAY) FROM input_df WHERE \" + descriptions[count]\n",
    "        value = sqldf(query).loc[0][0]\n",
    "        values.append(value)\n",
    "        \n",
    "    output_df['Average delay (min.)'] = values\n",
    "    cols = output_df.columns\n",
    "    output_df = output_df.reindex([cols[0],cols[1],cols[4],cols[2],cols[3]],axis=1)\n",
    "\n",
    "    return output_df"
   ]
  },
  {
   "cell_type": "code",
   "execution_count": 31,
   "metadata": {},
   "outputs": [],
   "source": [
    "avg_total = average_delay_calculations(input, output_total, wedge)\n",
    "avg_total.to_csv('average_delay/normal/avg_total.csv')"
   ]
  },
  {
   "cell_type": "code",
   "execution_count": 32,
   "metadata": {},
   "outputs": [],
   "source": [
    "avg_2018 = average_delay_calculations(input, output_2018, wedge, 2018)\n",
    "avg_2018.to_csv('average_delay/normal/avg_2018.csv')"
   ]
  },
  {
   "cell_type": "code",
   "execution_count": 33,
   "metadata": {},
   "outputs": [],
   "source": [
    "avg_2020 = average_delay_calculations(input, output_2020, wedge, 2020)\n",
    "avg_2020.to_csv('average_delay/normal/avg_2020.csv')"
   ]
  },
  {
   "cell_type": "code",
   "execution_count": 34,
   "metadata": {},
   "outputs": [],
   "source": [
    "avg_2022 = average_delay_calculations(input, output_2022, wedge, 2022)\n",
    "avg_2022.to_csv('average_delay/normal/avg_2022.csv')"
   ]
  }
 ],
 "metadata": {
  "kernelspec": {
   "display_name": "Python 3.9.2 64-bit",
   "language": "python",
   "name": "python3"
  },
  "language_info": {
   "codemirror_mode": {
    "name": "ipython",
    "version": 3
   },
   "file_extension": ".py",
   "mimetype": "text/x-python",
   "name": "python",
   "nbconvert_exporter": "python",
   "pygments_lexer": "ipython3",
   "version": "3.9.2"
  },
  "orig_nbformat": 4,
  "vscode": {
   "interpreter": {
    "hash": "52634da84371cba311ea128a5ea7cdc41ff074b781779e754b270ff9f8153cee"
   }
  }
 },
 "nbformat": 4,
 "nbformat_minor": 2
}
