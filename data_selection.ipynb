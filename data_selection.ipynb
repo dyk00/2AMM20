{
 "cells": [
  {
   "cell_type": "code",
   "execution_count": 1,
   "metadata": {},
   "outputs": [
    {
     "name": "stderr",
     "output_type": "stream",
     "text": [
      "c:\\Users\\tijnv\\Anaconda3\\lib\\site-packages\\numpy\\_distributor_init.py:32: UserWarning: loaded more than 1 DLL from .libs:\n",
      "c:\\Users\\tijnv\\Anaconda3\\lib\\site-packages\\numpy\\.libs\\libopenblas.GK7GX5KEQ4F6UYO3P26ULGBQYHGQO7J4.gfortran-win_amd64.dll\n",
      "c:\\Users\\tijnv\\Anaconda3\\lib\\site-packages\\numpy\\.libs\\libopenblas.PYQHXLVVQ7VESDPUVUADXEVJOBGHJPAY.gfortran-win_amd64.dll\n",
      "  stacklevel=1)\n"
     ]
    }
   ],
   "source": [
    "import pandas as pd\n",
    "import numpy as np \n",
    "import matplotlib.pyplot as plt\n",
    "import glob\n",
    "import calendar\n",
    "import datetime\n",
    "\n",
    "path = r'.\\Data' # use your path\n",
    "all_files = glob.glob(path + \"/*.csv\")\n",
    "\n",
    "li = []\n",
    "\n",
    "for filename in all_files:\n",
    "    df = pd.read_csv(filename, index_col=None, header=0)\n",
    "    li.append(df)\n",
    "\n",
    "frame = pd.concat(li, axis=0, ignore_index=True)"
   ]
  },
  {
   "cell_type": "code",
   "execution_count": 2,
   "metadata": {},
   "outputs": [
    {
     "data": {
      "text/plain": [
       "(5355214, 25)"
      ]
     },
     "execution_count": 2,
     "metadata": {},
     "output_type": "execute_result"
    }
   ],
   "source": [
    "frame.shape"
   ]
  },
  {
   "cell_type": "markdown",
   "metadata": {},
   "source": [
    "## Data preprocessing\n",
    "At  the moment we have decided to filter the busiest airline and its top-3 most used departure and arrival airports. "
   ]
  },
  {
   "cell_type": "markdown",
   "metadata": {},
   "source": [
    "### Busiest airline"
   ]
  },
  {
   "cell_type": "code",
   "execution_count": 3,
   "metadata": {},
   "outputs": [
    {
     "data": {
      "text/plain": [
       "19393"
      ]
     },
     "execution_count": 3,
     "metadata": {},
     "output_type": "execute_result"
    }
   ],
   "source": [
    "busiest_airline_id = frame['OP_CARRIER_AIRLINE_ID'].value_counts().head(1).index[0]\n",
    "busiest_airline_id"
   ]
  },
  {
   "cell_type": "code",
   "execution_count": 4,
   "metadata": {},
   "outputs": [
    {
     "data": {
      "text/html": [
       "<div>\n",
       "<style scoped>\n",
       "    .dataframe tbody tr th:only-of-type {\n",
       "        vertical-align: middle;\n",
       "    }\n",
       "\n",
       "    .dataframe tbody tr th {\n",
       "        vertical-align: top;\n",
       "    }\n",
       "\n",
       "    .dataframe thead th {\n",
       "        text-align: right;\n",
       "    }\n",
       "</style>\n",
       "<table border=\"1\" class=\"dataframe\">\n",
       "  <thead>\n",
       "    <tr style=\"text-align: right;\">\n",
       "      <th></th>\n",
       "      <th>Code</th>\n",
       "      <th>Description</th>\n",
       "    </tr>\n",
       "  </thead>\n",
       "  <tbody>\n",
       "    <tr>\n",
       "      <th>362</th>\n",
       "      <td>19393</td>\n",
       "      <td>Southwest Airlines Co.: WN</td>\n",
       "    </tr>\n",
       "  </tbody>\n",
       "</table>\n",
       "</div>"
      ],
      "text/plain": [
       "      Code                 Description\n",
       "362  19393  Southwest Airlines Co.: WN"
      ]
     },
     "execution_count": 4,
     "metadata": {},
     "output_type": "execute_result"
    }
   ],
   "source": [
    "airline_ids = pd.read_csv('airport_airline_data/L_AIRLINE_ID.csv')\n",
    "airline_ids[airline_ids['Code']==busiest_airline_id]"
   ]
  },
  {
   "cell_type": "markdown",
   "metadata": {},
   "source": [
    "### Top-3 departure and arrival airports"
   ]
  },
  {
   "cell_type": "code",
   "execution_count": 5,
   "metadata": {},
   "outputs": [
    {
     "data": {
      "text/plain": [
       "[13232, 11292, 12889]"
      ]
     },
     "execution_count": 5,
     "metadata": {},
     "output_type": "execute_result"
    }
   ],
   "source": [
    "airports_filter = []\n",
    "three_departure = frame[frame['OP_CARRIER_AIRLINE_ID']==busiest_airline_id]['ORIGIN_AIRPORT_ID'].value_counts().head(3).index.to_list()\n",
    "three_arrival = frame[frame['OP_CARRIER_AIRLINE_ID']==busiest_airline_id]['DEST_AIRPORT_ID'].value_counts().head(3).index.to_list()\n",
    "airports_filter.extend(x for x in three_departure if x not in airports_filter)\n",
    "airports_filter.extend(x for x in three_arrival if x not in airports_filter)\n",
    "airports_filter"
   ]
  },
  {
   "cell_type": "code",
   "execution_count": 6,
   "metadata": {},
   "outputs": [
    {
     "data": {
      "text/html": [
       "<div>\n",
       "<style scoped>\n",
       "    .dataframe tbody tr th:only-of-type {\n",
       "        vertical-align: middle;\n",
       "    }\n",
       "\n",
       "    .dataframe tbody tr th {\n",
       "        vertical-align: top;\n",
       "    }\n",
       "\n",
       "    .dataframe thead th {\n",
       "        text-align: right;\n",
       "    }\n",
       "</style>\n",
       "<table border=\"1\" class=\"dataframe\">\n",
       "  <thead>\n",
       "    <tr style=\"text-align: right;\">\n",
       "      <th></th>\n",
       "      <th>Code</th>\n",
       "      <th>Description</th>\n",
       "    </tr>\n",
       "  </thead>\n",
       "  <tbody>\n",
       "    <tr>\n",
       "      <th>1245</th>\n",
       "      <td>11292</td>\n",
       "      <td>Denver, CO: Denver International</td>\n",
       "    </tr>\n",
       "    <tr>\n",
       "      <th>2762</th>\n",
       "      <td>12889</td>\n",
       "      <td>Las Vegas, NV: McCarran International</td>\n",
       "    </tr>\n",
       "    <tr>\n",
       "      <th>3098</th>\n",
       "      <td>13232</td>\n",
       "      <td>Chicago, IL: Chicago Midway International</td>\n",
       "    </tr>\n",
       "  </tbody>\n",
       "</table>\n",
       "</div>"
      ],
      "text/plain": [
       "       Code                                Description\n",
       "1245  11292           Denver, CO: Denver International\n",
       "2762  12889      Las Vegas, NV: McCarran International\n",
       "3098  13232  Chicago, IL: Chicago Midway International"
      ]
     },
     "execution_count": 6,
     "metadata": {},
     "output_type": "execute_result"
    }
   ],
   "source": [
    "airport_ids = pd.read_csv('airport_airline_data/L_AIRPORT_ID.csv')\n",
    "airport_ids[airport_ids.Code.isin(airports_filter)]"
   ]
  },
  {
   "cell_type": "markdown",
   "metadata": {},
   "source": [
    "### Filter busiest airline with its top-3 used departure and arrival airports"
   ]
  },
  {
   "cell_type": "code",
   "execution_count": 7,
   "metadata": {},
   "outputs": [
    {
     "data": {
      "text/html": [
       "<div>\n",
       "<style scoped>\n",
       "    .dataframe tbody tr th:only-of-type {\n",
       "        vertical-align: middle;\n",
       "    }\n",
       "\n",
       "    .dataframe tbody tr th {\n",
       "        vertical-align: top;\n",
       "    }\n",
       "\n",
       "    .dataframe thead th {\n",
       "        text-align: right;\n",
       "    }\n",
       "</style>\n",
       "<table border=\"1\" class=\"dataframe\">\n",
       "  <thead>\n",
       "    <tr style=\"text-align: right;\">\n",
       "      <th></th>\n",
       "      <th>YEAR</th>\n",
       "      <th>MONTH</th>\n",
       "      <th>DAY_OF_MONTH</th>\n",
       "      <th>DAY_OF_WEEK</th>\n",
       "      <th>OP_CARRIER_AIRLINE_ID</th>\n",
       "      <th>ORIGIN_AIRPORT_ID</th>\n",
       "      <th>DEST_AIRPORT_ID</th>\n",
       "      <th>CRS_DEP_TIME</th>\n",
       "      <th>DEP_TIME</th>\n",
       "      <th>DEP_DELAY</th>\n",
       "      <th>...</th>\n",
       "      <th>CRS_ELAPSED_TIME</th>\n",
       "      <th>ACTUAL_ELAPSED_TIME</th>\n",
       "      <th>FLIGHTS</th>\n",
       "      <th>DISTANCE</th>\n",
       "      <th>DISTANCE_GROUP</th>\n",
       "      <th>CARRIER_DELAY</th>\n",
       "      <th>WEATHER_DELAY</th>\n",
       "      <th>NAS_DELAY</th>\n",
       "      <th>SECURITY_DELAY</th>\n",
       "      <th>LATE_AIRCRAFT_DELAY</th>\n",
       "    </tr>\n",
       "  </thead>\n",
       "  <tbody>\n",
       "    <tr>\n",
       "      <th>116754</th>\n",
       "      <td>2018</td>\n",
       "      <td>4</td>\n",
       "      <td>2</td>\n",
       "      <td>1</td>\n",
       "      <td>19393</td>\n",
       "      <td>13232</td>\n",
       "      <td>13871</td>\n",
       "      <td>2000</td>\n",
       "      <td>2026.0</td>\n",
       "      <td>26.0</td>\n",
       "      <td>...</td>\n",
       "      <td>90.0</td>\n",
       "      <td>87.0</td>\n",
       "      <td>1.0</td>\n",
       "      <td>423.0</td>\n",
       "      <td>2</td>\n",
       "      <td>0.0</td>\n",
       "      <td>0.0</td>\n",
       "      <td>0.0</td>\n",
       "      <td>0.0</td>\n",
       "      <td>23.0</td>\n",
       "    </tr>\n",
       "    <tr>\n",
       "      <th>116755</th>\n",
       "      <td>2018</td>\n",
       "      <td>4</td>\n",
       "      <td>2</td>\n",
       "      <td>1</td>\n",
       "      <td>19393</td>\n",
       "      <td>13232</td>\n",
       "      <td>13871</td>\n",
       "      <td>825</td>\n",
       "      <td>818.0</td>\n",
       "      <td>-7.0</td>\n",
       "      <td>...</td>\n",
       "      <td>90.0</td>\n",
       "      <td>88.0</td>\n",
       "      <td>1.0</td>\n",
       "      <td>423.0</td>\n",
       "      <td>2</td>\n",
       "      <td>NaN</td>\n",
       "      <td>NaN</td>\n",
       "      <td>NaN</td>\n",
       "      <td>NaN</td>\n",
       "      <td>NaN</td>\n",
       "    </tr>\n",
       "    <tr>\n",
       "      <th>116756</th>\n",
       "      <td>2018</td>\n",
       "      <td>4</td>\n",
       "      <td>2</td>\n",
       "      <td>1</td>\n",
       "      <td>19393</td>\n",
       "      <td>13232</td>\n",
       "      <td>13871</td>\n",
       "      <td>1015</td>\n",
       "      <td>1021.0</td>\n",
       "      <td>6.0</td>\n",
       "      <td>...</td>\n",
       "      <td>85.0</td>\n",
       "      <td>85.0</td>\n",
       "      <td>1.0</td>\n",
       "      <td>423.0</td>\n",
       "      <td>2</td>\n",
       "      <td>NaN</td>\n",
       "      <td>NaN</td>\n",
       "      <td>NaN</td>\n",
       "      <td>NaN</td>\n",
       "      <td>NaN</td>\n",
       "    </tr>\n",
       "    <tr>\n",
       "      <th>116757</th>\n",
       "      <td>2018</td>\n",
       "      <td>4</td>\n",
       "      <td>2</td>\n",
       "      <td>1</td>\n",
       "      <td>19393</td>\n",
       "      <td>13232</td>\n",
       "      <td>13891</td>\n",
       "      <td>2005</td>\n",
       "      <td>2005.0</td>\n",
       "      <td>0.0</td>\n",
       "      <td>...</td>\n",
       "      <td>260.0</td>\n",
       "      <td>252.0</td>\n",
       "      <td>1.0</td>\n",
       "      <td>1706.0</td>\n",
       "      <td>7</td>\n",
       "      <td>NaN</td>\n",
       "      <td>NaN</td>\n",
       "      <td>NaN</td>\n",
       "      <td>NaN</td>\n",
       "      <td>NaN</td>\n",
       "    </tr>\n",
       "    <tr>\n",
       "      <th>116758</th>\n",
       "      <td>2018</td>\n",
       "      <td>4</td>\n",
       "      <td>2</td>\n",
       "      <td>1</td>\n",
       "      <td>19393</td>\n",
       "      <td>13232</td>\n",
       "      <td>13931</td>\n",
       "      <td>2305</td>\n",
       "      <td>2312.0</td>\n",
       "      <td>7.0</td>\n",
       "      <td>...</td>\n",
       "      <td>110.0</td>\n",
       "      <td>102.0</td>\n",
       "      <td>1.0</td>\n",
       "      <td>704.0</td>\n",
       "      <td>3</td>\n",
       "      <td>NaN</td>\n",
       "      <td>NaN</td>\n",
       "      <td>NaN</td>\n",
       "      <td>NaN</td>\n",
       "      <td>NaN</td>\n",
       "    </tr>\n",
       "    <tr>\n",
       "      <th>...</th>\n",
       "      <td>...</td>\n",
       "      <td>...</td>\n",
       "      <td>...</td>\n",
       "      <td>...</td>\n",
       "      <td>...</td>\n",
       "      <td>...</td>\n",
       "      <td>...</td>\n",
       "      <td>...</td>\n",
       "      <td>...</td>\n",
       "      <td>...</td>\n",
       "      <td>...</td>\n",
       "      <td>...</td>\n",
       "      <td>...</td>\n",
       "      <td>...</td>\n",
       "      <td>...</td>\n",
       "      <td>...</td>\n",
       "      <td>...</td>\n",
       "      <td>...</td>\n",
       "      <td>...</td>\n",
       "      <td>...</td>\n",
       "      <td>...</td>\n",
       "    </tr>\n",
       "    <tr>\n",
       "      <th>5355194</th>\n",
       "      <td>2022</td>\n",
       "      <td>7</td>\n",
       "      <td>13</td>\n",
       "      <td>3</td>\n",
       "      <td>19393</td>\n",
       "      <td>11638</td>\n",
       "      <td>11292</td>\n",
       "      <td>1455</td>\n",
       "      <td>1458.0</td>\n",
       "      <td>3.0</td>\n",
       "      <td>...</td>\n",
       "      <td>135.0</td>\n",
       "      <td>133.0</td>\n",
       "      <td>1.0</td>\n",
       "      <td>844.0</td>\n",
       "      <td>4</td>\n",
       "      <td>NaN</td>\n",
       "      <td>NaN</td>\n",
       "      <td>NaN</td>\n",
       "      <td>NaN</td>\n",
       "      <td>NaN</td>\n",
       "    </tr>\n",
       "    <tr>\n",
       "      <th>5355195</th>\n",
       "      <td>2022</td>\n",
       "      <td>7</td>\n",
       "      <td>13</td>\n",
       "      <td>3</td>\n",
       "      <td>19393</td>\n",
       "      <td>11638</td>\n",
       "      <td>12889</td>\n",
       "      <td>1550</td>\n",
       "      <td>1544.0</td>\n",
       "      <td>-6.0</td>\n",
       "      <td>...</td>\n",
       "      <td>70.0</td>\n",
       "      <td>68.0</td>\n",
       "      <td>1.0</td>\n",
       "      <td>259.0</td>\n",
       "      <td>2</td>\n",
       "      <td>NaN</td>\n",
       "      <td>NaN</td>\n",
       "      <td>NaN</td>\n",
       "      <td>NaN</td>\n",
       "      <td>NaN</td>\n",
       "    </tr>\n",
       "    <tr>\n",
       "      <th>5355196</th>\n",
       "      <td>2022</td>\n",
       "      <td>7</td>\n",
       "      <td>13</td>\n",
       "      <td>3</td>\n",
       "      <td>19393</td>\n",
       "      <td>11638</td>\n",
       "      <td>12889</td>\n",
       "      <td>1115</td>\n",
       "      <td>1226.0</td>\n",
       "      <td>71.0</td>\n",
       "      <td>...</td>\n",
       "      <td>70.0</td>\n",
       "      <td>77.0</td>\n",
       "      <td>1.0</td>\n",
       "      <td>259.0</td>\n",
       "      <td>2</td>\n",
       "      <td>0.0</td>\n",
       "      <td>0.0</td>\n",
       "      <td>7.0</td>\n",
       "      <td>0.0</td>\n",
       "      <td>71.0</td>\n",
       "    </tr>\n",
       "    <tr>\n",
       "      <th>5355197</th>\n",
       "      <td>2022</td>\n",
       "      <td>7</td>\n",
       "      <td>13</td>\n",
       "      <td>3</td>\n",
       "      <td>19393</td>\n",
       "      <td>11638</td>\n",
       "      <td>12889</td>\n",
       "      <td>555</td>\n",
       "      <td>549.0</td>\n",
       "      <td>-6.0</td>\n",
       "      <td>...</td>\n",
       "      <td>65.0</td>\n",
       "      <td>65.0</td>\n",
       "      <td>1.0</td>\n",
       "      <td>259.0</td>\n",
       "      <td>2</td>\n",
       "      <td>NaN</td>\n",
       "      <td>NaN</td>\n",
       "      <td>NaN</td>\n",
       "      <td>NaN</td>\n",
       "      <td>NaN</td>\n",
       "    </tr>\n",
       "    <tr>\n",
       "      <th>5355198</th>\n",
       "      <td>2022</td>\n",
       "      <td>7</td>\n",
       "      <td>13</td>\n",
       "      <td>3</td>\n",
       "      <td>19393</td>\n",
       "      <td>11638</td>\n",
       "      <td>12889</td>\n",
       "      <td>1400</td>\n",
       "      <td>1354.0</td>\n",
       "      <td>-6.0</td>\n",
       "      <td>...</td>\n",
       "      <td>65.0</td>\n",
       "      <td>64.0</td>\n",
       "      <td>1.0</td>\n",
       "      <td>259.0</td>\n",
       "      <td>2</td>\n",
       "      <td>NaN</td>\n",
       "      <td>NaN</td>\n",
       "      <td>NaN</td>\n",
       "      <td>NaN</td>\n",
       "      <td>NaN</td>\n",
       "    </tr>\n",
       "  </tbody>\n",
       "</table>\n",
       "<p>399727 rows × 25 columns</p>\n",
       "</div>"
      ],
      "text/plain": [
       "         YEAR  MONTH  DAY_OF_MONTH  DAY_OF_WEEK  OP_CARRIER_AIRLINE_ID  \\\n",
       "116754   2018      4             2            1                  19393   \n",
       "116755   2018      4             2            1                  19393   \n",
       "116756   2018      4             2            1                  19393   \n",
       "116757   2018      4             2            1                  19393   \n",
       "116758   2018      4             2            1                  19393   \n",
       "...       ...    ...           ...          ...                    ...   \n",
       "5355194  2022      7            13            3                  19393   \n",
       "5355195  2022      7            13            3                  19393   \n",
       "5355196  2022      7            13            3                  19393   \n",
       "5355197  2022      7            13            3                  19393   \n",
       "5355198  2022      7            13            3                  19393   \n",
       "\n",
       "         ORIGIN_AIRPORT_ID  DEST_AIRPORT_ID  CRS_DEP_TIME  DEP_TIME  \\\n",
       "116754               13232            13871          2000    2026.0   \n",
       "116755               13232            13871           825     818.0   \n",
       "116756               13232            13871          1015    1021.0   \n",
       "116757               13232            13891          2005    2005.0   \n",
       "116758               13232            13931          2305    2312.0   \n",
       "...                    ...              ...           ...       ...   \n",
       "5355194              11638            11292          1455    1458.0   \n",
       "5355195              11638            12889          1550    1544.0   \n",
       "5355196              11638            12889          1115    1226.0   \n",
       "5355197              11638            12889           555     549.0   \n",
       "5355198              11638            12889          1400    1354.0   \n",
       "\n",
       "         DEP_DELAY  ...  CRS_ELAPSED_TIME  ACTUAL_ELAPSED_TIME  FLIGHTS  \\\n",
       "116754        26.0  ...              90.0                 87.0      1.0   \n",
       "116755        -7.0  ...              90.0                 88.0      1.0   \n",
       "116756         6.0  ...              85.0                 85.0      1.0   \n",
       "116757         0.0  ...             260.0                252.0      1.0   \n",
       "116758         7.0  ...             110.0                102.0      1.0   \n",
       "...            ...  ...               ...                  ...      ...   \n",
       "5355194        3.0  ...             135.0                133.0      1.0   \n",
       "5355195       -6.0  ...              70.0                 68.0      1.0   \n",
       "5355196       71.0  ...              70.0                 77.0      1.0   \n",
       "5355197       -6.0  ...              65.0                 65.0      1.0   \n",
       "5355198       -6.0  ...              65.0                 64.0      1.0   \n",
       "\n",
       "         DISTANCE  DISTANCE_GROUP  CARRIER_DELAY  WEATHER_DELAY  NAS_DELAY  \\\n",
       "116754      423.0               2            0.0            0.0        0.0   \n",
       "116755      423.0               2            NaN            NaN        NaN   \n",
       "116756      423.0               2            NaN            NaN        NaN   \n",
       "116757     1706.0               7            NaN            NaN        NaN   \n",
       "116758      704.0               3            NaN            NaN        NaN   \n",
       "...           ...             ...            ...            ...        ...   \n",
       "5355194     844.0               4            NaN            NaN        NaN   \n",
       "5355195     259.0               2            NaN            NaN        NaN   \n",
       "5355196     259.0               2            0.0            0.0        7.0   \n",
       "5355197     259.0               2            NaN            NaN        NaN   \n",
       "5355198     259.0               2            NaN            NaN        NaN   \n",
       "\n",
       "         SECURITY_DELAY  LATE_AIRCRAFT_DELAY  \n",
       "116754              0.0                 23.0  \n",
       "116755              NaN                  NaN  \n",
       "116756              NaN                  NaN  \n",
       "116757              NaN                  NaN  \n",
       "116758              NaN                  NaN  \n",
       "...                 ...                  ...  \n",
       "5355194             NaN                  NaN  \n",
       "5355195             NaN                  NaN  \n",
       "5355196             0.0                 71.0  \n",
       "5355197             NaN                  NaN  \n",
       "5355198             NaN                  NaN  \n",
       "\n",
       "[399727 rows x 25 columns]"
      ]
     },
     "execution_count": 7,
     "metadata": {},
     "output_type": "execute_result"
    }
   ],
   "source": [
    "busiest_airline_df = frame[frame['OP_CARRIER_AIRLINE_ID']==busiest_airline_id]\n",
    "filtered_df = busiest_airline_df[(busiest_airline_df.DEST_AIRPORT_ID.isin(airports_filter)) | (busiest_airline_df.ORIGIN_AIRPORT_ID.isin(airports_filter))]\n",
    "filtered_df"
   ]
  },
  {
   "cell_type": "markdown",
   "metadata": {},
   "source": [
    "### Remove cancelled and diverted flights"
   ]
  },
  {
   "cell_type": "code",
   "execution_count": 8,
   "metadata": {},
   "outputs": [],
   "source": [
    "filtered_df = filtered_df[(filtered_df['CANCELLED']!=1)|(filtered_df['DIVERTED']!=1)]"
   ]
  },
  {
   "cell_type": "markdown",
   "metadata": {},
   "source": [
    "### Transform month to string (categorical variable)"
   ]
  },
  {
   "cell_type": "code",
   "execution_count": 9,
   "metadata": {},
   "outputs": [],
   "source": [
    "filtered_df[\"MONTH_STRING\"] = filtered_df[\"MONTH\"].apply(lambda x: calendar.month_name[int(x)])"
   ]
  },
  {
   "cell_type": "markdown",
   "metadata": {},
   "source": [
    "### Make year a dummy variable"
   ]
  },
  {
   "cell_type": "code",
   "execution_count": 10,
   "metadata": {},
   "outputs": [],
   "source": [
    "dummies_year = pd.get_dummies(filtered_df['YEAR'])\n",
    "filtered_df = pd.concat([filtered_df, dummies_year], axis=1)"
   ]
  },
  {
   "cell_type": "markdown",
   "metadata": {},
   "source": [
    "### Convert CRS_DEP_TIME and CRS_ARR_TIME"
   ]
  },
  {
   "cell_type": "code",
   "execution_count": 11,
   "metadata": {},
   "outputs": [],
   "source": [
    "def convert_time(time_int):\n",
    "    time_str = str(time_int)\n",
    "    if len(time_str) == 1:\n",
    "        time_str = \"00:0\" + time_str\n",
    "    elif len(time_str) == 2:\n",
    "        time_str = '00:' + time_str\n",
    "    elif len(time_str) == 3:\n",
    "        time_str = '0' + time_str[0] + ':' + time_str[1:]\n",
    "    elif len(time_str) == 4:\n",
    "        time_str = time_str[:2] + ':' + time_str[2:]\n",
    "    else:\n",
    "        print(time_str)\n",
    "    time = datetime.datetime.strptime(time_str, \"%H:%M\")\n",
    "    time_delta_start_of_day = datetime.timedelta(hours=time.hour, minutes=time.minute)\n",
    "    time_delta_minutes = time_delta_start_of_day.total_seconds()/60\n",
    "    return time_delta_minutes"
   ]
  },
  {
   "cell_type": "code",
   "execution_count": 12,
   "metadata": {},
   "outputs": [],
   "source": [
    "filtered_df['CRS_DEP_TIME_DELTA'] = filtered_df['CRS_DEP_TIME'].apply(lambda x: convert_time(x))"
   ]
  },
  {
   "cell_type": "code",
   "execution_count": 13,
   "metadata": {},
   "outputs": [],
   "source": [
    "filtered_df['CRS_ARR_TIME_DELTA'] = filtered_df['CRS_ARR_TIME'].apply(lambda x: convert_time(x))"
   ]
  },
  {
   "cell_type": "markdown",
   "metadata": {},
   "source": [
    "## Exploration"
   ]
  },
  {
   "cell_type": "code",
   "execution_count": 14,
   "metadata": {},
   "outputs": [
    {
     "data": {
      "text/html": [
       "<div>\n",
       "<style scoped>\n",
       "    .dataframe tbody tr th:only-of-type {\n",
       "        vertical-align: middle;\n",
       "    }\n",
       "\n",
       "    .dataframe tbody tr th {\n",
       "        vertical-align: top;\n",
       "    }\n",
       "\n",
       "    .dataframe thead th {\n",
       "        text-align: right;\n",
       "    }\n",
       "</style>\n",
       "<table border=\"1\" class=\"dataframe\">\n",
       "  <thead>\n",
       "    <tr style=\"text-align: right;\">\n",
       "      <th></th>\n",
       "      <th>YEAR</th>\n",
       "      <th>MONTH</th>\n",
       "      <th>DAY_OF_MONTH</th>\n",
       "      <th>DAY_OF_WEEK</th>\n",
       "      <th>OP_CARRIER_AIRLINE_ID</th>\n",
       "      <th>ORIGIN_AIRPORT_ID</th>\n",
       "      <th>DEST_AIRPORT_ID</th>\n",
       "      <th>CRS_DEP_TIME</th>\n",
       "      <th>DEP_TIME</th>\n",
       "      <th>DEP_DELAY</th>\n",
       "      <th>...</th>\n",
       "      <th>WEATHER_DELAY</th>\n",
       "      <th>NAS_DELAY</th>\n",
       "      <th>SECURITY_DELAY</th>\n",
       "      <th>LATE_AIRCRAFT_DELAY</th>\n",
       "      <th>MONTH_STRING</th>\n",
       "      <th>2018</th>\n",
       "      <th>2020</th>\n",
       "      <th>2022</th>\n",
       "      <th>CRS_DEP_TIME_DELTA</th>\n",
       "      <th>CRS_ARR_TIME_DELTA</th>\n",
       "    </tr>\n",
       "  </thead>\n",
       "  <tbody>\n",
       "    <tr>\n",
       "      <th>117696</th>\n",
       "      <td>2018</td>\n",
       "      <td>4</td>\n",
       "      <td>19</td>\n",
       "      <td>4</td>\n",
       "      <td>19393</td>\n",
       "      <td>14771</td>\n",
       "      <td>12889</td>\n",
       "      <td>2145</td>\n",
       "      <td>NaN</td>\n",
       "      <td>NaN</td>\n",
       "      <td>...</td>\n",
       "      <td>NaN</td>\n",
       "      <td>NaN</td>\n",
       "      <td>NaN</td>\n",
       "      <td>NaN</td>\n",
       "      <td>April</td>\n",
       "      <td>1</td>\n",
       "      <td>0</td>\n",
       "      <td>0</td>\n",
       "      <td>1305.0</td>\n",
       "      <td>1395.0</td>\n",
       "    </tr>\n",
       "    <tr>\n",
       "      <th>119597</th>\n",
       "      <td>2018</td>\n",
       "      <td>4</td>\n",
       "      <td>23</td>\n",
       "      <td>1</td>\n",
       "      <td>19393</td>\n",
       "      <td>14107</td>\n",
       "      <td>12889</td>\n",
       "      <td>2025</td>\n",
       "      <td>NaN</td>\n",
       "      <td>NaN</td>\n",
       "      <td>...</td>\n",
       "      <td>NaN</td>\n",
       "      <td>NaN</td>\n",
       "      <td>NaN</td>\n",
       "      <td>NaN</td>\n",
       "      <td>April</td>\n",
       "      <td>1</td>\n",
       "      <td>0</td>\n",
       "      <td>0</td>\n",
       "      <td>1225.0</td>\n",
       "      <td>1290.0</td>\n",
       "    </tr>\n",
       "    <tr>\n",
       "      <th>119602</th>\n",
       "      <td>2018</td>\n",
       "      <td>4</td>\n",
       "      <td>23</td>\n",
       "      <td>1</td>\n",
       "      <td>19393</td>\n",
       "      <td>14107</td>\n",
       "      <td>12889</td>\n",
       "      <td>1640</td>\n",
       "      <td>NaN</td>\n",
       "      <td>NaN</td>\n",
       "      <td>...</td>\n",
       "      <td>NaN</td>\n",
       "      <td>NaN</td>\n",
       "      <td>NaN</td>\n",
       "      <td>NaN</td>\n",
       "      <td>April</td>\n",
       "      <td>1</td>\n",
       "      <td>0</td>\n",
       "      <td>0</td>\n",
       "      <td>1000.0</td>\n",
       "      <td>1060.0</td>\n",
       "    </tr>\n",
       "    <tr>\n",
       "      <th>119624</th>\n",
       "      <td>2018</td>\n",
       "      <td>4</td>\n",
       "      <td>23</td>\n",
       "      <td>1</td>\n",
       "      <td>19393</td>\n",
       "      <td>14107</td>\n",
       "      <td>13232</td>\n",
       "      <td>730</td>\n",
       "      <td>NaN</td>\n",
       "      <td>NaN</td>\n",
       "      <td>...</td>\n",
       "      <td>NaN</td>\n",
       "      <td>NaN</td>\n",
       "      <td>NaN</td>\n",
       "      <td>NaN</td>\n",
       "      <td>April</td>\n",
       "      <td>1</td>\n",
       "      <td>0</td>\n",
       "      <td>0</td>\n",
       "      <td>450.0</td>\n",
       "      <td>765.0</td>\n",
       "    </tr>\n",
       "    <tr>\n",
       "      <th>119871</th>\n",
       "      <td>2018</td>\n",
       "      <td>4</td>\n",
       "      <td>23</td>\n",
       "      <td>1</td>\n",
       "      <td>19393</td>\n",
       "      <td>14679</td>\n",
       "      <td>11292</td>\n",
       "      <td>1600</td>\n",
       "      <td>1708.0</td>\n",
       "      <td>68.0</td>\n",
       "      <td>...</td>\n",
       "      <td>NaN</td>\n",
       "      <td>NaN</td>\n",
       "      <td>NaN</td>\n",
       "      <td>NaN</td>\n",
       "      <td>April</td>\n",
       "      <td>1</td>\n",
       "      <td>0</td>\n",
       "      <td>0</td>\n",
       "      <td>960.0</td>\n",
       "      <td>1155.0</td>\n",
       "    </tr>\n",
       "    <tr>\n",
       "      <th>...</th>\n",
       "      <td>...</td>\n",
       "      <td>...</td>\n",
       "      <td>...</td>\n",
       "      <td>...</td>\n",
       "      <td>...</td>\n",
       "      <td>...</td>\n",
       "      <td>...</td>\n",
       "      <td>...</td>\n",
       "      <td>...</td>\n",
       "      <td>...</td>\n",
       "      <td>...</td>\n",
       "      <td>...</td>\n",
       "      <td>...</td>\n",
       "      <td>...</td>\n",
       "      <td>...</td>\n",
       "      <td>...</td>\n",
       "      <td>...</td>\n",
       "      <td>...</td>\n",
       "      <td>...</td>\n",
       "      <td>...</td>\n",
       "      <td>...</td>\n",
       "    </tr>\n",
       "    <tr>\n",
       "      <th>5352346</th>\n",
       "      <td>2022</td>\n",
       "      <td>7</td>\n",
       "      <td>6</td>\n",
       "      <td>3</td>\n",
       "      <td>19393</td>\n",
       "      <td>13232</td>\n",
       "      <td>15016</td>\n",
       "      <td>905</td>\n",
       "      <td>NaN</td>\n",
       "      <td>NaN</td>\n",
       "      <td>...</td>\n",
       "      <td>NaN</td>\n",
       "      <td>NaN</td>\n",
       "      <td>NaN</td>\n",
       "      <td>NaN</td>\n",
       "      <td>July</td>\n",
       "      <td>0</td>\n",
       "      <td>0</td>\n",
       "      <td>1</td>\n",
       "      <td>545.0</td>\n",
       "      <td>615.0</td>\n",
       "    </tr>\n",
       "    <tr>\n",
       "      <th>5352511</th>\n",
       "      <td>2022</td>\n",
       "      <td>7</td>\n",
       "      <td>6</td>\n",
       "      <td>3</td>\n",
       "      <td>19393</td>\n",
       "      <td>13796</td>\n",
       "      <td>11292</td>\n",
       "      <td>2140</td>\n",
       "      <td>NaN</td>\n",
       "      <td>NaN</td>\n",
       "      <td>...</td>\n",
       "      <td>NaN</td>\n",
       "      <td>NaN</td>\n",
       "      <td>NaN</td>\n",
       "      <td>NaN</td>\n",
       "      <td>July</td>\n",
       "      <td>0</td>\n",
       "      <td>0</td>\n",
       "      <td>1</td>\n",
       "      <td>1300.0</td>\n",
       "      <td>60.0</td>\n",
       "    </tr>\n",
       "    <tr>\n",
       "      <th>5353325</th>\n",
       "      <td>2022</td>\n",
       "      <td>7</td>\n",
       "      <td>6</td>\n",
       "      <td>3</td>\n",
       "      <td>19393</td>\n",
       "      <td>14831</td>\n",
       "      <td>11292</td>\n",
       "      <td>2130</td>\n",
       "      <td>NaN</td>\n",
       "      <td>NaN</td>\n",
       "      <td>...</td>\n",
       "      <td>NaN</td>\n",
       "      <td>NaN</td>\n",
       "      <td>NaN</td>\n",
       "      <td>NaN</td>\n",
       "      <td>July</td>\n",
       "      <td>0</td>\n",
       "      <td>0</td>\n",
       "      <td>1</td>\n",
       "      <td>1290.0</td>\n",
       "      <td>55.0</td>\n",
       "    </tr>\n",
       "    <tr>\n",
       "      <th>5353435</th>\n",
       "      <td>2022</td>\n",
       "      <td>7</td>\n",
       "      <td>6</td>\n",
       "      <td>3</td>\n",
       "      <td>19393</td>\n",
       "      <td>14869</td>\n",
       "      <td>11292</td>\n",
       "      <td>1655</td>\n",
       "      <td>NaN</td>\n",
       "      <td>NaN</td>\n",
       "      <td>...</td>\n",
       "      <td>NaN</td>\n",
       "      <td>NaN</td>\n",
       "      <td>NaN</td>\n",
       "      <td>NaN</td>\n",
       "      <td>July</td>\n",
       "      <td>0</td>\n",
       "      <td>0</td>\n",
       "      <td>1</td>\n",
       "      <td>1015.0</td>\n",
       "      <td>1100.0</td>\n",
       "    </tr>\n",
       "    <tr>\n",
       "      <th>5355113</th>\n",
       "      <td>2022</td>\n",
       "      <td>7</td>\n",
       "      <td>13</td>\n",
       "      <td>3</td>\n",
       "      <td>19393</td>\n",
       "      <td>11292</td>\n",
       "      <td>14869</td>\n",
       "      <td>1715</td>\n",
       "      <td>1746.0</td>\n",
       "      <td>31.0</td>\n",
       "      <td>...</td>\n",
       "      <td>NaN</td>\n",
       "      <td>NaN</td>\n",
       "      <td>NaN</td>\n",
       "      <td>NaN</td>\n",
       "      <td>July</td>\n",
       "      <td>0</td>\n",
       "      <td>0</td>\n",
       "      <td>1</td>\n",
       "      <td>1035.0</td>\n",
       "      <td>1125.0</td>\n",
       "    </tr>\n",
       "  </tbody>\n",
       "</table>\n",
       "<p>21247 rows × 31 columns</p>\n",
       "</div>"
      ],
      "text/plain": [
       "         YEAR  MONTH  DAY_OF_MONTH  DAY_OF_WEEK  OP_CARRIER_AIRLINE_ID  \\\n",
       "117696   2018      4            19            4                  19393   \n",
       "119597   2018      4            23            1                  19393   \n",
       "119602   2018      4            23            1                  19393   \n",
       "119624   2018      4            23            1                  19393   \n",
       "119871   2018      4            23            1                  19393   \n",
       "...       ...    ...           ...          ...                    ...   \n",
       "5352346  2022      7             6            3                  19393   \n",
       "5352511  2022      7             6            3                  19393   \n",
       "5353325  2022      7             6            3                  19393   \n",
       "5353435  2022      7             6            3                  19393   \n",
       "5355113  2022      7            13            3                  19393   \n",
       "\n",
       "         ORIGIN_AIRPORT_ID  DEST_AIRPORT_ID  CRS_DEP_TIME  DEP_TIME  \\\n",
       "117696               14771            12889          2145       NaN   \n",
       "119597               14107            12889          2025       NaN   \n",
       "119602               14107            12889          1640       NaN   \n",
       "119624               14107            13232           730       NaN   \n",
       "119871               14679            11292          1600    1708.0   \n",
       "...                    ...              ...           ...       ...   \n",
       "5352346              13232            15016           905       NaN   \n",
       "5352511              13796            11292          2140       NaN   \n",
       "5353325              14831            11292          2130       NaN   \n",
       "5353435              14869            11292          1655       NaN   \n",
       "5355113              11292            14869          1715    1746.0   \n",
       "\n",
       "         DEP_DELAY  ...  WEATHER_DELAY  NAS_DELAY  SECURITY_DELAY  \\\n",
       "117696         NaN  ...            NaN        NaN             NaN   \n",
       "119597         NaN  ...            NaN        NaN             NaN   \n",
       "119602         NaN  ...            NaN        NaN             NaN   \n",
       "119624         NaN  ...            NaN        NaN             NaN   \n",
       "119871        68.0  ...            NaN        NaN             NaN   \n",
       "...            ...  ...            ...        ...             ...   \n",
       "5352346        NaN  ...            NaN        NaN             NaN   \n",
       "5352511        NaN  ...            NaN        NaN             NaN   \n",
       "5353325        NaN  ...            NaN        NaN             NaN   \n",
       "5353435        NaN  ...            NaN        NaN             NaN   \n",
       "5355113       31.0  ...            NaN        NaN             NaN   \n",
       "\n",
       "         LATE_AIRCRAFT_DELAY  MONTH_STRING  2018  2020  2022  \\\n",
       "117696                   NaN         April     1     0     0   \n",
       "119597                   NaN         April     1     0     0   \n",
       "119602                   NaN         April     1     0     0   \n",
       "119624                   NaN         April     1     0     0   \n",
       "119871                   NaN         April     1     0     0   \n",
       "...                      ...           ...   ...   ...   ...   \n",
       "5352346                  NaN          July     0     0     1   \n",
       "5352511                  NaN          July     0     0     1   \n",
       "5353325                  NaN          July     0     0     1   \n",
       "5353435                  NaN          July     0     0     1   \n",
       "5355113                  NaN          July     0     0     1   \n",
       "\n",
       "         CRS_DEP_TIME_DELTA  CRS_ARR_TIME_DELTA  \n",
       "117696               1305.0              1395.0  \n",
       "119597               1225.0              1290.0  \n",
       "119602               1000.0              1060.0  \n",
       "119624                450.0               765.0  \n",
       "119871                960.0              1155.0  \n",
       "...                     ...                 ...  \n",
       "5352346               545.0               615.0  \n",
       "5352511              1300.0                60.0  \n",
       "5353325              1290.0                55.0  \n",
       "5353435              1015.0              1100.0  \n",
       "5355113              1035.0              1125.0  \n",
       "\n",
       "[21247 rows x 31 columns]"
      ]
     },
     "execution_count": 14,
     "metadata": {},
     "output_type": "execute_result"
    }
   ],
   "source": [
    "filtered_df[(filtered_df['CANCELLED']==1)|(filtered_df['DIVERTED']==1)]"
   ]
  },
  {
   "cell_type": "code",
   "execution_count": 15,
   "metadata": {},
   "outputs": [
    {
     "data": {
      "text/plain": [
       "(58253, 31)"
      ]
     },
     "execution_count": 15,
     "metadata": {},
     "output_type": "execute_result"
    }
   ],
   "source": [
    "# Number of flights that had delay due to carrier \n",
    "filtered_df[(filtered_df['CARRIER_DELAY']>0)].shape"
   ]
  },
  {
   "cell_type": "code",
   "execution_count": 16,
   "metadata": {},
   "outputs": [
    {
     "data": {
      "text/plain": [
       "(32468, 31)"
      ]
     },
     "execution_count": 16,
     "metadata": {},
     "output_type": "execute_result"
    }
   ],
   "source": [
    "# Number of flights that had delay due to NAS \n",
    "filtered_df[filtered_df['NAS_DELAY']>0].shape"
   ]
  },
  {
   "cell_type": "code",
   "execution_count": 17,
   "metadata": {},
   "outputs": [
    {
     "data": {
      "text/plain": [
       "(55625, 31)"
      ]
     },
     "execution_count": 17,
     "metadata": {},
     "output_type": "execute_result"
    }
   ],
   "source": [
    "# Number of flights that had delay due to late aircraft \n",
    "filtered_df[(filtered_df['LATE_AIRCRAFT_DELAY']>0)].shape"
   ]
  },
  {
   "cell_type": "code",
   "execution_count": 18,
   "metadata": {},
   "outputs": [
    {
     "data": {
      "text/plain": [
       "(18328, 31)"
      ]
     },
     "execution_count": 18,
     "metadata": {},
     "output_type": "execute_result"
    }
   ],
   "source": [
    "# Number of flights that had delay due to carrier and NAS \n",
    "filtered_df[(filtered_df['CARRIER_DELAY']>0)&(filtered_df['NAS_DELAY']>0)].shape"
   ]
  },
  {
   "cell_type": "code",
   "execution_count": 19,
   "metadata": {},
   "outputs": [
    {
     "data": {
      "text/plain": [
       "(39512, 31)"
      ]
     },
     "execution_count": 19,
     "metadata": {},
     "output_type": "execute_result"
    }
   ],
   "source": [
    "# Number of flights that had delay due to carrier and late aircraft \n",
    "filtered_df[(filtered_df['CARRIER_DELAY']>0)&(filtered_df['LATE_AIRCRAFT_DELAY']>0)].shape"
   ]
  },
  {
   "cell_type": "code",
   "execution_count": 20,
   "metadata": {},
   "outputs": [
    {
     "data": {
      "text/plain": [
       "(17208, 31)"
      ]
     },
     "execution_count": 20,
     "metadata": {},
     "output_type": "execute_result"
    }
   ],
   "source": [
    "# Number of flights that had delay due to NAS and late aircraft\n",
    "filtered_df[(filtered_df['NAS_DELAY']>0)&(filtered_df['LATE_AIRCRAFT_DELAY']>0)].shape"
   ]
  },
  {
   "cell_type": "code",
   "execution_count": 21,
   "metadata": {},
   "outputs": [
    {
     "data": {
      "text/plain": [
       "(11056, 31)"
      ]
     },
     "execution_count": 21,
     "metadata": {},
     "output_type": "execute_result"
    }
   ],
   "source": [
    "# Number of flights that had delay due to carrier, NAS and late aircraft\n",
    "filtered_df[(filtered_df['CARRIER_DELAY']>0)&(filtered_df['LATE_AIRCRAFT_DELAY']>0)&(filtered_df['NAS_DELAY']>0)].shape"
   ]
  },
  {
   "cell_type": "code",
   "execution_count": 22,
   "metadata": {},
   "outputs": [
    {
     "data": {
      "text/html": [
       "<div>\n",
       "<style scoped>\n",
       "    .dataframe tbody tr th:only-of-type {\n",
       "        vertical-align: middle;\n",
       "    }\n",
       "\n",
       "    .dataframe tbody tr th {\n",
       "        vertical-align: top;\n",
       "    }\n",
       "\n",
       "    .dataframe thead th {\n",
       "        text-align: right;\n",
       "    }\n",
       "</style>\n",
       "<table border=\"1\" class=\"dataframe\">\n",
       "  <thead>\n",
       "    <tr style=\"text-align: right;\">\n",
       "      <th></th>\n",
       "      <th>CRS_DEP_TIME</th>\n",
       "      <th>DEP_TIME</th>\n",
       "      <th>DEP_DELAY</th>\n",
       "      <th>CRS_ARR_TIME</th>\n",
       "      <th>ARR_TIME</th>\n",
       "      <th>ARR_DELAY</th>\n",
       "      <th>CARRIER_DELAY</th>\n",
       "      <th>NAS_DELAY</th>\n",
       "      <th>LATE_AIRCRAFT_DELAY</th>\n",
       "    </tr>\n",
       "  </thead>\n",
       "  <tbody>\n",
       "    <tr>\n",
       "      <th>116754</th>\n",
       "      <td>2000</td>\n",
       "      <td>2026.0</td>\n",
       "      <td>26.0</td>\n",
       "      <td>2130</td>\n",
       "      <td>2153.0</td>\n",
       "      <td>23.0</td>\n",
       "      <td>0.0</td>\n",
       "      <td>0.0</td>\n",
       "      <td>23.0</td>\n",
       "    </tr>\n",
       "    <tr>\n",
       "      <th>116764</th>\n",
       "      <td>1035</td>\n",
       "      <td>1038.0</td>\n",
       "      <td>3.0</td>\n",
       "      <td>1325</td>\n",
       "      <td>1358.0</td>\n",
       "      <td>33.0</td>\n",
       "      <td>0.0</td>\n",
       "      <td>33.0</td>\n",
       "      <td>0.0</td>\n",
       "    </tr>\n",
       "    <tr>\n",
       "      <th>116772</th>\n",
       "      <td>945</td>\n",
       "      <td>1011.0</td>\n",
       "      <td>26.0</td>\n",
       "      <td>1130</td>\n",
       "      <td>1148.0</td>\n",
       "      <td>18.0</td>\n",
       "      <td>5.0</td>\n",
       "      <td>0.0</td>\n",
       "      <td>13.0</td>\n",
       "    </tr>\n",
       "    <tr>\n",
       "      <th>116777</th>\n",
       "      <td>1005</td>\n",
       "      <td>1027.0</td>\n",
       "      <td>22.0</td>\n",
       "      <td>1220</td>\n",
       "      <td>1240.0</td>\n",
       "      <td>20.0</td>\n",
       "      <td>0.0</td>\n",
       "      <td>0.0</td>\n",
       "      <td>20.0</td>\n",
       "    </tr>\n",
       "    <tr>\n",
       "      <th>116778</th>\n",
       "      <td>720</td>\n",
       "      <td>801.0</td>\n",
       "      <td>41.0</td>\n",
       "      <td>940</td>\n",
       "      <td>1019.0</td>\n",
       "      <td>39.0</td>\n",
       "      <td>12.0</td>\n",
       "      <td>0.0</td>\n",
       "      <td>27.0</td>\n",
       "    </tr>\n",
       "    <tr>\n",
       "      <th>...</th>\n",
       "      <td>...</td>\n",
       "      <td>...</td>\n",
       "      <td>...</td>\n",
       "      <td>...</td>\n",
       "      <td>...</td>\n",
       "      <td>...</td>\n",
       "      <td>...</td>\n",
       "      <td>...</td>\n",
       "      <td>...</td>\n",
       "    </tr>\n",
       "    <tr>\n",
       "      <th>5355138</th>\n",
       "      <td>1540</td>\n",
       "      <td>1606.0</td>\n",
       "      <td>26.0</td>\n",
       "      <td>1810</td>\n",
       "      <td>1838.0</td>\n",
       "      <td>28.0</td>\n",
       "      <td>10.0</td>\n",
       "      <td>2.0</td>\n",
       "      <td>16.0</td>\n",
       "    </tr>\n",
       "    <tr>\n",
       "      <th>5355139</th>\n",
       "      <td>1115</td>\n",
       "      <td>1143.0</td>\n",
       "      <td>28.0</td>\n",
       "      <td>1355</td>\n",
       "      <td>1415.0</td>\n",
       "      <td>20.0</td>\n",
       "      <td>19.0</td>\n",
       "      <td>0.0</td>\n",
       "      <td>1.0</td>\n",
       "    </tr>\n",
       "    <tr>\n",
       "      <th>5355140</th>\n",
       "      <td>1950</td>\n",
       "      <td>2013.0</td>\n",
       "      <td>23.0</td>\n",
       "      <td>2225</td>\n",
       "      <td>2246.0</td>\n",
       "      <td>21.0</td>\n",
       "      <td>0.0</td>\n",
       "      <td>0.0</td>\n",
       "      <td>21.0</td>\n",
       "    </tr>\n",
       "    <tr>\n",
       "      <th>5355181</th>\n",
       "      <td>1705</td>\n",
       "      <td>1746.0</td>\n",
       "      <td>41.0</td>\n",
       "      <td>1750</td>\n",
       "      <td>1830.0</td>\n",
       "      <td>40.0</td>\n",
       "      <td>1.0</td>\n",
       "      <td>0.0</td>\n",
       "      <td>39.0</td>\n",
       "    </tr>\n",
       "    <tr>\n",
       "      <th>5355196</th>\n",
       "      <td>1115</td>\n",
       "      <td>1226.0</td>\n",
       "      <td>71.0</td>\n",
       "      <td>1225</td>\n",
       "      <td>1343.0</td>\n",
       "      <td>78.0</td>\n",
       "      <td>0.0</td>\n",
       "      <td>7.0</td>\n",
       "      <td>71.0</td>\n",
       "    </tr>\n",
       "  </tbody>\n",
       "</table>\n",
       "<p>82872 rows × 9 columns</p>\n",
       "</div>"
      ],
      "text/plain": [
       "         CRS_DEP_TIME  DEP_TIME  DEP_DELAY  CRS_ARR_TIME  ARR_TIME  ARR_DELAY  \\\n",
       "116754           2000    2026.0       26.0          2130    2153.0       23.0   \n",
       "116764           1035    1038.0        3.0          1325    1358.0       33.0   \n",
       "116772            945    1011.0       26.0          1130    1148.0       18.0   \n",
       "116777           1005    1027.0       22.0          1220    1240.0       20.0   \n",
       "116778            720     801.0       41.0           940    1019.0       39.0   \n",
       "...               ...       ...        ...           ...       ...        ...   \n",
       "5355138          1540    1606.0       26.0          1810    1838.0       28.0   \n",
       "5355139          1115    1143.0       28.0          1355    1415.0       20.0   \n",
       "5355140          1950    2013.0       23.0          2225    2246.0       21.0   \n",
       "5355181          1705    1746.0       41.0          1750    1830.0       40.0   \n",
       "5355196          1115    1226.0       71.0          1225    1343.0       78.0   \n",
       "\n",
       "         CARRIER_DELAY  NAS_DELAY  LATE_AIRCRAFT_DELAY  \n",
       "116754             0.0        0.0                 23.0  \n",
       "116764             0.0       33.0                  0.0  \n",
       "116772             5.0        0.0                 13.0  \n",
       "116777             0.0        0.0                 20.0  \n",
       "116778            12.0        0.0                 27.0  \n",
       "...                ...        ...                  ...  \n",
       "5355138           10.0        2.0                 16.0  \n",
       "5355139           19.0        0.0                  1.0  \n",
       "5355140            0.0        0.0                 21.0  \n",
       "5355181            1.0        0.0                 39.0  \n",
       "5355196            0.0        7.0                 71.0  \n",
       "\n",
       "[82872 rows x 9 columns]"
      ]
     },
     "execution_count": 22,
     "metadata": {},
     "output_type": "execute_result"
    }
   ],
   "source": [
    "# Check type of delays compare to departure and arrival delay\n",
    "filtered_df[filtered_df['CARRIER_DELAY']>=0][['CRS_DEP_TIME','DEP_TIME','DEP_DELAY','CRS_ARR_TIME','ARR_TIME','ARR_DELAY','CARRIER_DELAY','NAS_DELAY','LATE_AIRCRAFT_DELAY']]"
   ]
  },
  {
   "cell_type": "code",
   "execution_count": 23,
   "metadata": {},
   "outputs": [
    {
     "data": {
      "text/html": [
       "<div>\n",
       "<style scoped>\n",
       "    .dataframe tbody tr th:only-of-type {\n",
       "        vertical-align: middle;\n",
       "    }\n",
       "\n",
       "    .dataframe tbody tr th {\n",
       "        vertical-align: top;\n",
       "    }\n",
       "\n",
       "    .dataframe thead th {\n",
       "        text-align: right;\n",
       "    }\n",
       "</style>\n",
       "<table border=\"1\" class=\"dataframe\">\n",
       "  <thead>\n",
       "    <tr style=\"text-align: right;\">\n",
       "      <th></th>\n",
       "      <th>YEAR</th>\n",
       "      <th>MONTH</th>\n",
       "      <th>DAY_OF_MONTH</th>\n",
       "      <th>DAY_OF_WEEK</th>\n",
       "      <th>OP_CARRIER_AIRLINE_ID</th>\n",
       "      <th>ORIGIN_AIRPORT_ID</th>\n",
       "      <th>DEST_AIRPORT_ID</th>\n",
       "      <th>CRS_DEP_TIME</th>\n",
       "      <th>DEP_TIME</th>\n",
       "      <th>DEP_DELAY</th>\n",
       "      <th>...</th>\n",
       "      <th>NAS_DELAY</th>\n",
       "      <th>SECURITY_DELAY</th>\n",
       "      <th>LATE_AIRCRAFT_DELAY</th>\n",
       "      <th>MONTH_STRING</th>\n",
       "      <th>2018</th>\n",
       "      <th>2020</th>\n",
       "      <th>2022</th>\n",
       "      <th>CRS_DEP_TIME_DELTA</th>\n",
       "      <th>CRS_ARR_TIME_DELTA</th>\n",
       "      <th>DELAYED</th>\n",
       "    </tr>\n",
       "  </thead>\n",
       "  <tbody>\n",
       "    <tr>\n",
       "      <th>116754</th>\n",
       "      <td>2018</td>\n",
       "      <td>4</td>\n",
       "      <td>2</td>\n",
       "      <td>1</td>\n",
       "      <td>19393</td>\n",
       "      <td>13232</td>\n",
       "      <td>13871</td>\n",
       "      <td>2000</td>\n",
       "      <td>2026.0</td>\n",
       "      <td>26.0</td>\n",
       "      <td>...</td>\n",
       "      <td>0.0</td>\n",
       "      <td>0.0</td>\n",
       "      <td>23.0</td>\n",
       "      <td>April</td>\n",
       "      <td>1</td>\n",
       "      <td>0</td>\n",
       "      <td>0</td>\n",
       "      <td>1200.0</td>\n",
       "      <td>1290.0</td>\n",
       "      <td>True</td>\n",
       "    </tr>\n",
       "    <tr>\n",
       "      <th>116755</th>\n",
       "      <td>2018</td>\n",
       "      <td>4</td>\n",
       "      <td>2</td>\n",
       "      <td>1</td>\n",
       "      <td>19393</td>\n",
       "      <td>13232</td>\n",
       "      <td>13871</td>\n",
       "      <td>825</td>\n",
       "      <td>818.0</td>\n",
       "      <td>-7.0</td>\n",
       "      <td>...</td>\n",
       "      <td>NaN</td>\n",
       "      <td>NaN</td>\n",
       "      <td>NaN</td>\n",
       "      <td>April</td>\n",
       "      <td>1</td>\n",
       "      <td>0</td>\n",
       "      <td>0</td>\n",
       "      <td>505.0</td>\n",
       "      <td>595.0</td>\n",
       "      <td>False</td>\n",
       "    </tr>\n",
       "  </tbody>\n",
       "</table>\n",
       "<p>2 rows × 32 columns</p>\n",
       "</div>"
      ],
      "text/plain": [
       "        YEAR  MONTH  DAY_OF_MONTH  DAY_OF_WEEK  OP_CARRIER_AIRLINE_ID  \\\n",
       "116754  2018      4             2            1                  19393   \n",
       "116755  2018      4             2            1                  19393   \n",
       "\n",
       "        ORIGIN_AIRPORT_ID  DEST_AIRPORT_ID  CRS_DEP_TIME  DEP_TIME  DEP_DELAY  \\\n",
       "116754              13232            13871          2000    2026.0       26.0   \n",
       "116755              13232            13871           825     818.0       -7.0   \n",
       "\n",
       "        ...  NAS_DELAY  SECURITY_DELAY  LATE_AIRCRAFT_DELAY  MONTH_STRING  \\\n",
       "116754  ...        0.0             0.0                 23.0         April   \n",
       "116755  ...        NaN             NaN                  NaN         April   \n",
       "\n",
       "        2018  2020  2022  CRS_DEP_TIME_DELTA  CRS_ARR_TIME_DELTA  DELAYED  \n",
       "116754     1     0     0              1200.0              1290.0     True  \n",
       "116755     1     0     0               505.0               595.0    False  \n",
       "\n",
       "[2 rows x 32 columns]"
      ]
     },
     "execution_count": 23,
     "metadata": {},
     "output_type": "execute_result"
    }
   ],
   "source": [
    "#https://bestcarsanswers.com/library/article/read/32856-what-is-crs-elapsed-time-of-flight\n",
    "filtered_df['DELAYED'] = (filtered_df['DEP_DELAY']>=15)|(filtered_df['ARR_DELAY']>=15)\n",
    "filtered_df.head(2)"
   ]
  },
  {
   "cell_type": "code",
   "execution_count": 24,
   "metadata": {},
   "outputs": [],
   "source": [
    "def categories_cat_delay(series: pd.Series) -> list:\n",
    "    lst = []\n",
    "    for value in series:\n",
    "        if value < 1:\n",
    "            if value != 0:\n",
    "                print(value)\n",
    "            lst.append(0)\n",
    "        elif value > 0: \n",
    "            lst.append('Greater than 0')\n",
    "        elif pd.isna(value):\n",
    "            lst.append('nan')\n",
    "        else:\n",
    "            print(value)\n",
    "    return lst"
   ]
  },
  {
   "cell_type": "code",
   "execution_count": 25,
   "metadata": {},
   "outputs": [],
   "source": [
    "filtered_df['CARRIER_DELAY_BOOL'] = categories_cat_delay(filtered_df['CARRIER_DELAY'])"
   ]
  },
  {
   "cell_type": "code",
   "execution_count": 26,
   "metadata": {},
   "outputs": [
    {
     "data": {
      "text/plain": [
       "DELAYED  CARRIER_DELAY_BOOL\n",
       "False    nan                   292293\n",
       "True     Greater than 0         58253\n",
       "         0                      24619\n",
       "         nan                    24562\n",
       "dtype: int64"
      ]
     },
     "execution_count": 26,
     "metadata": {},
     "output_type": "execute_result"
    }
   ],
   "source": [
    "#This output shows whether if a flight is delayed (has a departure or arrival delay >= 15), it has a value within a categorical delay column\n",
    "#If there is a value in one of the categorical delay columns all categorical delay columns have a value <- True\n",
    "#Therefore this output only shows it for carrier_delay column too make it more easy to read\n",
    "filtered_df[['DELAYED','CARRIER_DELAY_BOOL']].value_counts()"
   ]
  },
  {
   "cell_type": "markdown",
   "metadata": {},
   "source": [
    "### Extra preprocessing based on exploration"
   ]
  },
  {
   "cell_type": "code",
   "execution_count": 27,
   "metadata": {},
   "outputs": [],
   "source": [
    "# ^ There are 24562 rows that are delayed but do not have values for the reasoning behind this (values in the categorical delay columns)\n",
    "# Therefore delete these rows! Do not have information about the categorical delay columns eventhough these flights are delayed.\n",
    "filtered_df2 = filtered_df[~((filtered_df['DELAYED']==True) & (filtered_df['CARRIER_DELAY_BOOL'] == 'nan'))]"
   ]
  },
  {
   "cell_type": "markdown",
   "metadata": {},
   "source": [
    "### Further exploration"
   ]
  },
  {
   "cell_type": "code",
   "execution_count": 28,
   "metadata": {},
   "outputs": [],
   "source": [
    "expl_df = filtered_df2[['CARRIER_DELAY','WEATHER_DELAY','NAS_DELAY','SECURITY_DELAY','LATE_AIRCRAFT_DELAY','DELAYED']].copy()"
   ]
  },
  {
   "cell_type": "code",
   "execution_count": 29,
   "metadata": {},
   "outputs": [],
   "source": [
    "expl_df['CARRIER_DELAY_BOOL'] = categories_cat_delay(expl_df['CARRIER_DELAY'])\n",
    "expl_df['WEATHER_DELAY_BOOL'] = categories_cat_delay(expl_df['WEATHER_DELAY'])\n",
    "expl_df['NAS_DELAY_BOOL'] = categories_cat_delay(expl_df['NAS_DELAY'])\n",
    "expl_df['SECURITY_DELAY_BOOL'] = categories_cat_delay(expl_df['SECURITY_DELAY'])\n",
    "expl_df['LATE_AIRCRAFT_DELAY_BOOL'] = categories_cat_delay(expl_df['LATE_AIRCRAFT_DELAY'])"
   ]
  },
  {
   "cell_type": "code",
   "execution_count": 30,
   "metadata": {},
   "outputs": [
    {
     "data": {
      "text/plain": [
       "DELAYED  CARRIER_DELAY_BOOL  WEATHER_DELAY_BOOL  NAS_DELAY_BOOL  SECURITY_DELAY_BOOL  LATE_AIRCRAFT_DELAY_BOOL\n",
       "False    nan                 nan                 nan             nan                  nan                         292293\n",
       "True     Greater than 0      0                   0               0                    Greater than 0               28456\n",
       "                                                                                      0                            11469\n",
       "                                                 Greater than 0  0                    Greater than 0               11056\n",
       "         0                   0                   0               0                    Greater than 0                9289\n",
       "                                                 Greater than 0  0                    0                             7506\n",
       "         Greater than 0      0                   Greater than 0  0                    0                             7272\n",
       "         0                   0                   Greater than 0  0                    Greater than 0                5595\n",
       "                             Greater than 0      0               0                    Greater than 0                 609\n",
       "                                                 Greater than 0  0                    Greater than 0                 535\n",
       "                                                 0               0                    0                              427\n",
       "                                                 Greater than 0  0                    0                              423\n",
       "                             0                   0               Greater than 0       0                               91\n",
       "                                                                                      Greater than 0                  63\n",
       "                                                 Greater than 0  Greater than 0       0                               59\n",
       "                                                                                      Greater than 0                  22\n",
       "dtype: int64"
      ]
     },
     "execution_count": 30,
     "metadata": {},
     "output_type": "execute_result"
    }
   ],
   "source": [
    "expl_df[['DELAYED','CARRIER_DELAY_BOOL','WEATHER_DELAY_BOOL','NAS_DELAY_BOOL','SECURITY_DELAY_BOOL','LATE_AIRCRAFT_DELAY_BOOL']].value_counts()"
   ]
  },
  {
   "cell_type": "markdown",
   "metadata": {},
   "source": [
    "### Fill nan with 0 "
   ]
  },
  {
   "cell_type": "code",
   "execution_count": 31,
   "metadata": {},
   "outputs": [],
   "source": [
    "filtered_df2 = filtered_df2.fillna(0)"
   ]
  },
  {
   "cell_type": "code",
   "execution_count": 32,
   "metadata": {},
   "outputs": [],
   "source": [
    "filtered_df2.to_csv('DSSD_input/total_carrier.csv')"
   ]
  },
  {
   "cell_type": "code",
   "execution_count": 33,
   "metadata": {},
   "outputs": [
    {
     "data": {
      "text/plain": [
       "(375165, 33)"
      ]
     },
     "execution_count": 33,
     "metadata": {},
     "output_type": "execute_result"
    }
   ],
   "source": [
    "filtered_df2.shape"
   ]
  },
  {
   "cell_type": "markdown",
   "metadata": {},
   "source": [
    "# Carrier\n",
    "Carrier df including flights with and without delay, X are variables that are known beforehand about the flight and Y is the delay in minutes due to the carrier"
   ]
  },
  {
   "cell_type": "code",
   "execution_count": 34,
   "metadata": {},
   "outputs": [],
   "source": [
    "X_columns_total = [2018,2020,2022,'MONTH_STRING','DAY_OF_MONTH','DAY_OF_WEEK','ORIGIN_AIRPORT_ID','DEST_AIRPORT_ID','CRS_DEP_TIME_DELTA','CRS_ARR_TIME_DELTA','CRS_ELAPSED_TIME','DISTANCE']\n",
    "X_columns_p_year = ['MONTH_STRING','DAY_OF_MONTH','DAY_OF_WEEK','ORIGIN_AIRPORT_ID','DEST_AIRPORT_ID','CRS_DEP_TIME_DELTA','CRS_ARR_TIME_DELTA','CRS_ELAPSED_TIME','DISTANCE']\n",
    "#,'DISTANCE_GROUP', 'YEAR', 'CRS_DEP_TIME', 'CRS_ARR_TIME','OP_CARRIER_AIRLINE_ID'"
   ]
  },
  {
   "cell_type": "markdown",
   "metadata": {},
   "source": [
    "## Carrier total"
   ]
  },
  {
   "cell_type": "code",
   "execution_count": 35,
   "metadata": {},
   "outputs": [],
   "source": [
    "X_carrier = filtered_df2[X_columns_total].copy()"
   ]
  },
  {
   "cell_type": "code",
   "execution_count": 36,
   "metadata": {},
   "outputs": [
    {
     "data": {
      "text/plain": [
       "(375165, 12)"
      ]
     },
     "execution_count": 36,
     "metadata": {},
     "output_type": "execute_result"
    }
   ],
   "source": [
    "X_carrier.shape"
   ]
  },
  {
   "cell_type": "code",
   "execution_count": 37,
   "metadata": {},
   "outputs": [],
   "source": [
    "y_carrier = filtered_df2[['CARRIER_DELAY']]"
   ]
  },
  {
   "cell_type": "markdown",
   "metadata": {},
   "source": [
    "## Carrier 2018"
   ]
  },
  {
   "cell_type": "code",
   "execution_count": 38,
   "metadata": {},
   "outputs": [],
   "source": [
    "X_carrier_2018 = filtered_df2[filtered_df2['YEAR'] == 2018][X_columns_p_year].copy()"
   ]
  },
  {
   "cell_type": "code",
   "execution_count": 39,
   "metadata": {},
   "outputs": [
    {
     "data": {
      "text/plain": [
       "(139736, 9)"
      ]
     },
     "execution_count": 39,
     "metadata": {},
     "output_type": "execute_result"
    }
   ],
   "source": [
    "X_carrier_2018.shape"
   ]
  },
  {
   "cell_type": "code",
   "execution_count": 40,
   "metadata": {},
   "outputs": [],
   "source": [
    "y_carrier_2018 = filtered_df2[filtered_df2['YEAR'] == 2018][['CARRIER_DELAY']].copy()"
   ]
  },
  {
   "cell_type": "markdown",
   "metadata": {},
   "source": [
    "## Carrier 2020"
   ]
  },
  {
   "cell_type": "code",
   "execution_count": 41,
   "metadata": {},
   "outputs": [],
   "source": [
    "X_carrier_2020 = filtered_df2[filtered_df2['YEAR'] == 2020][X_columns_p_year].copy()"
   ]
  },
  {
   "cell_type": "code",
   "execution_count": 42,
   "metadata": {},
   "outputs": [
    {
     "data": {
      "text/plain": [
       "(100217, 9)"
      ]
     },
     "execution_count": 42,
     "metadata": {},
     "output_type": "execute_result"
    }
   ],
   "source": [
    "X_carrier_2020.shape"
   ]
  },
  {
   "cell_type": "code",
   "execution_count": 43,
   "metadata": {},
   "outputs": [],
   "source": [
    "y_carrier_2022 = filtered_df2[filtered_df2['YEAR'] == 2020][['CARRIER_DELAY']].copy()"
   ]
  },
  {
   "cell_type": "markdown",
   "metadata": {},
   "source": [
    "## Carrier 2022"
   ]
  },
  {
   "cell_type": "code",
   "execution_count": 44,
   "metadata": {},
   "outputs": [],
   "source": [
    "X_carrier_2022 = filtered_df2[filtered_df2['YEAR'] == 2022][X_columns_p_year].copy()"
   ]
  },
  {
   "cell_type": "code",
   "execution_count": 45,
   "metadata": {},
   "outputs": [
    {
     "data": {
      "text/plain": [
       "(135212, 9)"
      ]
     },
     "execution_count": 45,
     "metadata": {},
     "output_type": "execute_result"
    }
   ],
   "source": [
    "X_carrier_2022.shape"
   ]
  },
  {
   "cell_type": "code",
   "execution_count": 46,
   "metadata": {},
   "outputs": [],
   "source": [
    "y_carrier_2022 = filtered_df2[filtered_df2['YEAR'] == 2022][['CARRIER_DELAY']].copy()"
   ]
  }
 ],
 "metadata": {
  "kernelspec": {
   "display_name": "Python 3.7.4 ('base')",
   "language": "python",
   "name": "python3"
  },
  "language_info": {
   "codemirror_mode": {
    "name": "ipython",
    "version": 3
   },
   "file_extension": ".py",
   "mimetype": "text/x-python",
   "name": "python",
   "nbconvert_exporter": "python",
   "pygments_lexer": "ipython3",
   "version": "3.7.4"
  },
  "orig_nbformat": 4,
  "vscode": {
   "interpreter": {
    "hash": "e6afd37fb4493cd501570060c3bb62d9b83c4db3dcf580150f63b7b99bbaeae6"
   }
  }
 },
 "nbformat": 4,
 "nbformat_minor": 2
}
