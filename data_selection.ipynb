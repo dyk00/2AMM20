{
 "cells": [
  {
   "cell_type": "code",
   "execution_count": null,
   "metadata": {},
   "outputs": [],
   "source": [
    "import pandas as pd\n",
    "import numpy as np \n",
    "import matplotlib.pyplot as plt\n",
    "import glob\n",
    "\n",
    "path = r'.\\Data' # use your path\n",
    "all_files = glob.glob(path + \"/*.csv\")\n",
    "\n",
    "li = []\n",
    "\n",
    "for filename in all_files:\n",
    "    df = pd.read_csv(filename, index_col=None, header=0)\n",
    "    li.append(df)\n",
    "\n",
    "frame = pd.concat(li, axis=0, ignore_index=True)"
   ]
  },
  {
   "cell_type": "code",
   "execution_count": null,
   "metadata": {},
   "outputs": [],
   "source": [
    "frame.shape"
   ]
  },
  {
   "cell_type": "markdown",
   "metadata": {},
   "source": [
    "# Data Preprocessing"
   ]
  },
  {
   "cell_type": "markdown",
   "metadata": {},
   "source": [
    "At  the moment we have decided to filter the busiest airline, thereafter look at the top-3 most used airports to departure and arrival from/to. "
   ]
  },
  {
   "cell_type": "code",
   "execution_count": null,
   "metadata": {},
   "outputs": [],
   "source": [
    "busiest_airline_id = frame['OP_CARRIER_AIRLINE_ID'].value_counts().head(1).index[0]\n",
    "busiest_airline_id"
   ]
  },
  {
   "cell_type": "code",
   "execution_count": null,
   "metadata": {},
   "outputs": [],
   "source": [
    "airline_ids = pd.read_csv('airport_airline_data/L_AIRLINE_ID.csv')\n",
    "airline_ids[airline_ids['Code']==busiest_airline_id]"
   ]
  },
  {
   "cell_type": "code",
   "execution_count": null,
   "metadata": {},
   "outputs": [],
   "source": [
    "airports_filter = []\n",
    "three_departure = frame[frame['OP_CARRIER_AIRLINE_ID']==busiest_airline_id]['ORIGIN_AIRPORT_ID'].value_counts().head(3).index.to_list()\n",
    "three_arrival = frame[frame['OP_CARRIER_AIRLINE_ID']==busiest_airline_id]['DEST_AIRPORT_ID'].value_counts().head(3).index.to_list()\n",
    "airports_filter.extend(x for x in three_departure if x not in airports_filter)\n",
    "airports_filter.extend(x for x in three_arrival if x not in airports_filter)\n",
    "airports_filter"
   ]
  },
  {
   "cell_type": "code",
   "execution_count": null,
   "metadata": {},
   "outputs": [],
   "source": [
    "airport_ids = pd.read_csv('airport_airline_data/L_AIRPORT_ID.csv')\n",
    "airport_ids[airport_ids.Code.isin(airports_filter)]"
   ]
  },
  {
   "cell_type": "markdown",
   "metadata": {},
   "source": [
    "Filter df with busiest airline with top 3 departure, arrival airports"
   ]
  },
  {
   "cell_type": "code",
   "execution_count": null,
   "metadata": {},
   "outputs": [],
   "source": [
    "busiest_airline_df = frame[frame['OP_CARRIER_AIRLINE_ID']==busiest_airline_id]\n",
    "filtered_df = busiest_airline_df[(busiest_airline_df.DEST_AIRPORT_ID.isin(airports_filter)) | (busiest_airline_df.ORIGIN_AIRPORT_ID.isin(airports_filter))]\n",
    "filtered_df"
   ]
  },
  {
   "cell_type": "code",
   "execution_count": null,
   "metadata": {},
   "outputs": [],
   "source": [
    "# Number of flights that had delay due to late aircraft \n",
    "filtered_df[(filtered_df['LATE_AIRCRAFT_DELAY']>0)].shape"
   ]
  },
  {
   "cell_type": "code",
   "execution_count": null,
   "metadata": {},
   "outputs": [],
   "source": [
    "# Number of flights that had delay due to carrier \n",
    "filtered_df[(filtered_df['CARRIER_DELAY']>0)].shape"
   ]
  },
  {
   "cell_type": "code",
   "execution_count": null,
   "metadata": {},
   "outputs": [],
   "source": [
    "# Number of flights that had delay due to NAS \n",
    "filtered_df[filtered_df['NAS_DELAY']>0].shape"
   ]
  },
  {
   "cell_type": "code",
   "execution_count": null,
   "metadata": {},
   "outputs": [],
   "source": [
    "# Number of flights that had delay due to carrier and NAS \n",
    "filtered_df[(filtered_df['CARRIER_DELAY']>0)&(filtered_df['NAS_DELAY']>0)].shape\n"
   ]
  },
  {
   "cell_type": "code",
   "execution_count": null,
   "metadata": {},
   "outputs": [],
   "source": [
    "# Number of flights that had delay due to carrier and late aircraft \n",
    "filtered_df[(filtered_df['CARRIER_DELAY']>0)&(filtered_df['LATE_AIRCRAFT_DELAY']>0)].shape"
   ]
  },
  {
   "cell_type": "code",
   "execution_count": null,
   "metadata": {},
   "outputs": [],
   "source": [
    "# Number of flights that had delay due to NAS and late aircraft\n",
    "filtered_df[(filtered_df['NAS_DELAY']>0)&(filtered_df['LATE_AIRCRAFT_DELAY']>0)].shape"
   ]
  },
  {
   "cell_type": "code",
   "execution_count": null,
   "metadata": {},
   "outputs": [],
   "source": [
    "# Number of flights that had delay due to carrier, NAS and late aircraft\n",
    "filtered_df[(filtered_df['CARRIER_DELAY']>0)&(filtered_df['LATE_AIRCRAFT_DELAY']>0)&(filtered_df['NAS_DELAY']>0)].shape"
   ]
  },
  {
   "cell_type": "code",
   "execution_count": null,
   "metadata": {},
   "outputs": [],
   "source": [
    "filtered_df[(filtered_df['CANCELLED']==1)|(filtered_df['DIVERTED']==1)]"
   ]
  },
  {
   "cell_type": "markdown",
   "metadata": {},
   "source": [
    "Fill in the delay columns that have nan with 0"
   ]
  },
  {
   "cell_type": "code",
   "execution_count": null,
   "metadata": {},
   "outputs": [],
   "source": [
    "# filtered_df['CARRIER_DELAY'] = filtered_df['CARRIER_DELAY'].fillna(0)\n",
    "# filtered_df['NAS_DELAY'] = filtered_df['NAS_DELAY'].fillna(0)"
   ]
  },
  {
   "cell_type": "code",
   "execution_count": null,
   "metadata": {},
   "outputs": [],
   "source": [
    "filtered_df.corr()"
   ]
  },
  {
   "cell_type": "code",
   "execution_count": null,
   "metadata": {},
   "outputs": [],
   "source": [
    "filtered_df.describe()"
   ]
  },
  {
   "cell_type": "code",
   "execution_count": null,
   "metadata": {},
   "outputs": [],
   "source": [
    "#Select the columns that we will use and perform subgroup algorithm thingy"
   ]
  },
  {
   "cell_type": "code",
   "execution_count": null,
   "metadata": {},
   "outputs": [],
   "source": []
  }
 ],
 "metadata": {
  "kernelspec": {
   "display_name": "Python 3.7.4 ('base')",
   "language": "python",
   "name": "python3"
  },
  "language_info": {
   "codemirror_mode": {
    "name": "ipython",
    "version": 3
   },
   "file_extension": ".py",
   "mimetype": "text/x-python",
   "name": "python",
   "nbconvert_exporter": "python",
   "pygments_lexer": "ipython3",
   "version": "3.7.4"
  },
  "orig_nbformat": 4,
  "vscode": {
   "interpreter": {
    "hash": "e6afd37fb4493cd501570060c3bb62d9b83c4db3dcf580150f63b7b99bbaeae6"
   }
  }
 },
 "nbformat": 4,
 "nbformat_minor": 2
}
